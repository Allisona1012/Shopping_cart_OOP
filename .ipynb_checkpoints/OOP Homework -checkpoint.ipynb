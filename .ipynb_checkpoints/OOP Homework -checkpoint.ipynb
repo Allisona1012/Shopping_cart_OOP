{
 "cells": [
  {
   "cell_type": "markdown",
   "id": "7dbffa83",
   "metadata": {},
   "source": [
    "# Excersises"
   ]
  },
  {
   "cell_type": "markdown",
   "id": "699d3da2",
   "metadata": {},
   "source": [
    "### Exercise 1 - Turn the shopping cart program into an object-oriented program\n"
   ]
  },
  {
   "cell_type": "code",
   "execution_count": null,
   "id": "b02d2e0f",
   "metadata": {},
   "outputs": [],
   "source": [
    "# Create a class called cart that retains items and has methods to add, remove, and show\n",
    "\n",
    "class Cart():\n",
    "    pass\n",
    "    \n",
    "    \n",
    "class Item():\n",
    "    "
   ]
  },
  {
   "cell_type": "markdown",
   "id": "71d5e5c1",
   "metadata": {},
   "source": [
    "### Exercise 2 - Write a Python class for an Animal that has a name and energy attributes. The animal class should also have methods for eat, sleep, and play that will take in an integer and increase/decrease the energy of the animal with a formatted print statement¶"
   ]
  },
  {
   "cell_type": "code",
   "execution_count": 18,
   "id": "a51f1046",
   "metadata": {},
   "outputs": [],
   "source": [
    "# Example 1\n",
    "# buddy = Animal('Buddy', 10)\n",
    "# buddy.play(5) -> \"Buddy is playing for 5 minutes. His energy is now 5\"\n",
    "# buddy.sleep(10) -> \"Buddy is sleeping for 5 minutes. His energy is now 15\"\n",
    "\n",
    "class Animal():\n",
    "    \n",
    "    def __init__ (self, name, energy = 100):\n",
    "        self.name = name\n",
    "        self.energy = energy\n",
    "        \n",
    "    def play(self, time_played):\n",
    "        level_decrease = self.energy - time_played\n",
    "        print(f'{self.name} now has an energy level of {level_decrease}.')\n",
    "    \n",
    "    def sleep(self, hours_slept):\n",
    "            level_increase = 10 * hours_slept\n",
    "            self.energy += level_increase\n",
    "            print(f' {self.name} now has an energy level of {level_increase}.')\n",
    "            \n",
    "        \n",
    "    \n",
    "animal_1 = Animal('Ronnie', energy=75)\n",
    "animal_2 = Animal ('Fratelli')"
   ]
  },
  {
   "cell_type": "code",
   "execution_count": 17,
   "id": "83675e19",
   "metadata": {},
   "outputs": [
    {
     "name": "stdout",
     "output_type": "stream",
     "text": [
      "Ronnie now has an energy level of 55.\n"
     ]
    }
   ],
   "source": [
    "animal_1.play(20)"
   ]
  }
 ],
 "metadata": {
  "kernelspec": {
   "display_name": "Python 3 (ipykernel)",
   "language": "python",
   "name": "python3"
  },
  "language_info": {
   "codemirror_mode": {
    "name": "ipython",
    "version": 3
   },
   "file_extension": ".py",
   "mimetype": "text/x-python",
   "name": "python",
   "nbconvert_exporter": "python",
   "pygments_lexer": "ipython3",
   "version": "3.9.7"
  }
 },
 "nbformat": 4,
 "nbformat_minor": 5
}
