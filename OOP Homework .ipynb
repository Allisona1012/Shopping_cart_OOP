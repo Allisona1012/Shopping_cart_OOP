{
 "cells": [
  {
   "cell_type": "markdown",
   "id": "1b92268e",
   "metadata": {},
   "source": [
    "# Exercises"
   ]
  },
  {
   "cell_type": "markdown",
   "id": "ec04e275",
   "metadata": {},
   "source": [
    "### Exercise 1 - Turn the shopping cart program into an object-oriented program\n"
   ]
  },
  {
   "cell_type": "code",
   "execution_count": 91,
   "id": "1d3e3329",
   "metadata": {},
   "outputs": [
    {
     "ename": "SyntaxError",
     "evalue": "invalid syntax (278816161.py, line 16)",
     "output_type": "error",
     "traceback": [
      "\u001b[0;36m  File \u001b[0;32m\"/var/folders/wq/j8mn2v0s35x3mdgdyvtnfh1r0000gp/T/ipykernel_1842/278816161.py\"\u001b[0;36m, line \u001b[0;32m16\u001b[0m\n\u001b[0;31m    def view_cart(self,a_cart):\u001b[0m\n\u001b[0m    ^\u001b[0m\n\u001b[0;31mSyntaxError\u001b[0m\u001b[0;31m:\u001b[0m invalid syntax\n"
     ]
    }
   ],
   "source": [
    "# Create a class called cart that retains items and has methods to add, remove, and show\n",
    "\n",
    "class Cart:\n",
    "    \n",
    "    def __init__(self,a_cart=[]):\n",
    "        self.item_list= item_list\n",
    "\n",
    "    def add_item(self,item):\n",
    "        self.a_cart.append(item)\n",
    "        print (f'{item.name} has been added to the cart.')\n",
    "\n",
    "    def remove_item(self,a_cart):\n",
    "        for items in a_cart:\n",
    "\n",
    "            a_cart.pop(input(\"What would you like to remove? \")\n",
    "    def view_cart(self,a_cart):\n",
    "        for x in a_cart:\n",
    "            print (x)                          \n",
    "\n",
    "                                      \n",
    "                                      \n",
    "                                      \n",
    "                                      \n",
    "        \n",
    "                   \n",
    "        \n",
    "class Item:\n",
    "    def __init__(self,name,price, quantity = 1):\n",
    "        self.name = name\n",
    "        self.price = price\n",
    "        self.quantity = quantity\n",
    "        \n",
    "item1 = Item('apple', .50, 3)\n",
    "item2 = Item('pear', .85, 10)\n",
    "item3 = Item('peach', .20,5)\n",
    "    "
   ]
  },
  {
   "cell_type": "code",
   "execution_count": 73,
   "id": "bf0f9161",
   "metadata": {},
   "outputs": [
    {
     "name": "stdout",
     "output_type": "stream",
     "text": [
      "apple has been added to the cart.\n",
      "pear has been added to the cart.\n",
      "peach has been added to the cart.\n"
     ]
    }
   ],
   "source": [
    "a_cart.add_item(item1)\n",
    "a_cart.add_item(item2)\n",
    "a_cart.add_item(item3)"
   ]
  },
  {
   "cell_type": "code",
   "execution_count": 80,
   "id": "95db93c6",
   "metadata": {},
   "outputs": [
    {
     "ename": "SyntaxError",
     "evalue": "invalid syntax (1511119131.py, line 27)",
     "output_type": "error",
     "traceback": [
      "\u001b[0;36m  File \u001b[0;32m\"/var/folders/wq/j8mn2v0s35x3mdgdyvtnfh1r0000gp/T/ipykernel_1842/1511119131.py\"\u001b[0;36m, line \u001b[0;32m27\u001b[0m\n\u001b[0;31m    class Item:\u001b[0m\n\u001b[0m    ^\u001b[0m\n\u001b[0;31mSyntaxError\u001b[0m\u001b[0;31m:\u001b[0m invalid syntax\n"
     ]
    }
   ],
   "source": []
  },
  {
   "cell_type": "code",
   "execution_count": null,
   "id": "fc50296d",
   "metadata": {},
   "outputs": [],
   "source": []
  },
  {
   "cell_type": "markdown",
   "id": "c175730b",
   "metadata": {},
   "source": [
    "### Exercise 2 - Write a Python class for an Animal that has a name and energy attributes. The animal class should also have methods for eat, sleep, and play that will take in an integer and increase/decrease the energy of the animal with a formatted print statement¶"
   ]
  },
  {
   "cell_type": "code",
   "execution_count": 32,
   "id": "80d30ffb",
   "metadata": {},
   "outputs": [],
   "source": [
    "# Example 1\n",
    "# buddy = Animal('Buddy', 10)\n",
    "# buddy.play(5) -> \"Buddy is playing for 5 minutes. His energy is now 5\"\n",
    "# buddy.sleep(10) -> \"Buddy is sleeping for 5 minutes. His energy is now 15\"\n",
    "\n",
    "class Animal():\n",
    "    \n",
    "    def __init__ (self, name, energy = 100):\n",
    "        self.name = name\n",
    "        self.energy = energy\n",
    "        \n",
    "    def eat (self, amount_eaten):\n",
    "        level_increase = 5 * amount_eaten +self.energy\n",
    "#         self.energy += level_increase\n",
    "        print(f' {self.name} now has an energy level of {level_increase} after eating.')\n",
    "        \n",
    "        \n",
    "    def play(self, time_played):\n",
    "        level_decrease = self.energy - time_played\n",
    "        print(f'{self.name} now has an energy level of {level_decrease}.')\n",
    "    \n",
    "    def sleep(self, hours_slept):\n",
    "            level_increase = 10 * hours_slept\n",
    "            self.energy += level_increase\n",
    "            print(f' {self.name} now has an energy level of {level_increase}.')\n",
    "            \n",
    "        \n",
    "    \n",
    "animal_1 = Animal('Ronnie', energy=75)\n",
    "animal_2 = Animal ('Fratelli')"
   ]
  },
  {
   "cell_type": "code",
   "execution_count": 87,
   "id": "cecbb72e",
   "metadata": {},
   "outputs": [
    {
     "name": "stdout",
     "output_type": "stream",
     "text": [
      " Ronnie now has an energy level of 185 after eating.\n",
      " Ronnie now has an energy level of 100.\n",
      " Fratelli now has an energy level of 115 after eating.\n"
     ]
    }
   ],
   "source": [
    "animal_1.eat(2)\n",
    "animal_1.sleep(10)\n",
    "animal_2.eat(3)"
   ]
  },
  {
   "cell_type": "code",
   "execution_count": null,
   "id": "5389e9c7",
   "metadata": {},
   "outputs": [],
   "source": []
  }
 ],
 "metadata": {
  "kernelspec": {
   "display_name": "Python 3 (ipykernel)",
   "language": "python",
   "name": "python3"
  },
  "language_info": {
   "codemirror_mode": {
    "name": "ipython",
    "version": 3
   },
   "file_extension": ".py",
   "mimetype": "text/x-python",
   "name": "python",
   "nbconvert_exporter": "python",
   "pygments_lexer": "ipython3",
   "version": "3.9.7"
  }
 },
 "nbformat": 4,
 "nbformat_minor": 5
}
